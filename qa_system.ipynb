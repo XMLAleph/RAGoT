{
  "nbformat": 4,
  "nbformat_minor": 0,
  "metadata": {
    "colab": {
      "provenance": []
    },
    "kernelspec": {
      "name": "python3",
      "display_name": "Python 3"
    },
    "language_info": {
      "name": "python"
    }
  },
  "cells": [
    {
      "cell_type": "markdown",
      "source": [
        "# 后端准备"
      ],
      "metadata": {
        "id": "i8krUCswWXii"
      }
    },
    {
      "cell_type": "code",
      "source": [
        "! unzip QASystem_0516.zip"
      ],
      "metadata": {
        "id": "B8iiRgviO4y9",
        "colab": {
          "base_uri": "https://localhost:8080/"
        },
        "outputId": "b01db328-d845-4093-bc5c-da82bd918e54"
      },
      "execution_count": null,
      "outputs": [
        {
          "output_type": "stream",
          "name": "stdout",
          "text": [
            "Archive:  QASystem_0516.zip\n",
            "   creating: QASystem/__pycache__/\n",
            "  inflating: QASystem/__pycache__/flask_utils.cpython-38.pyc  \n",
            " extracting: QASystem/download.zip   \n",
            "   creating: QASystem/download/\n",
            "   creating: QASystem/download/font_4510329_7v0hh5c10hk/\n",
            "  inflating: QASystem/download/font_4510329_7v0hh5c10hk/demo.css  \n",
            "  inflating: QASystem/download/font_4510329_7v0hh5c10hk/demo_index.html  \n",
            "  inflating: QASystem/download/font_4510329_7v0hh5c10hk/iconfont.css  \n",
            "  inflating: QASystem/download/font_4510329_7v0hh5c10hk/iconfont.eot  \n",
            "  inflating: QASystem/download/font_4510329_7v0hh5c10hk/iconfont.js  \n",
            "  inflating: QASystem/download/font_4510329_7v0hh5c10hk/iconfont.json  \n",
            "  inflating: QASystem/download/font_4510329_7v0hh5c10hk/iconfont.svg  \n",
            "  inflating: QASystem/download/font_4510329_7v0hh5c10hk/iconfont.ttf  \n",
            "  inflating: QASystem/download/font_4510329_7v0hh5c10hk/iconfont.woff  \n",
            " extracting: QASystem/download/font_4510329_7v0hh5c10hk/iconfont.woff2  \n",
            "  inflating: QASystem/flask_utils.py  \n",
            "   creating: QASystem/llm_qa_systems/\n",
            "   creating: QASystem/llm_qa_systems/__pycache__/\n",
            "  inflating: QASystem/llm_qa_systems/__pycache__/run.cpython-38.pyc  \n",
            "   creating: QASystem/llm_qa_systems/configs/\n",
            "  inflating: QASystem/llm_qa_systems/configs/ircot_qa_codex_2wikimultihopqa____prompt_set_1___bm25_retrieval_count__6___distractor_count__2.jsonnet  \n",
            "  inflating: QASystem/llm_qa_systems/configs/ircot_qa_codex_hotpotqa____prompt_set_1___bm25_retrieval_count__6___distractor_count__2.jsonnet  \n",
            "  inflating: QASystem/llm_qa_systems/configs/ircot_qa_codex_musique____prompt_set_1___bm25_retrieval_count__6___distractor_count__2.jsonnet  \n",
            "  inflating: QASystem/llm_qa_systems/configs/ragot_qa_gpt_3_2wikimultihopqa____prompt_set_1___bm25_retrieval_count__6___distractor_count__2.jsonnet  \n",
            "  inflating: QASystem/llm_qa_systems/configs/ragot_qa_gpt_3_hotpotqa____prompt_set_1___bm25_retrieval_count__6___distractor_count__2.jsonnet  \n",
            "  inflating: QASystem/llm_qa_systems/configs/ragot_qa_gpt_3_musique____prompt_set_1___bm25_retrieval_count__6___distractor_count__2.jsonnet  \n",
            "  inflating: QASystem/llm_qa_systems/data_instances.py  \n",
            "  inflating: QASystem/llm_qa_systems/Dataset_readers.py  \n",
            "   creating: QASystem/llm_qa_systems/Generators/\n",
            "   creating: QASystem/llm_qa_systems/Generators/.ipynb_checkpoints/\n",
            "   creating: QASystem/llm_qa_systems/Generators/__pycache__/\n",
            "  inflating: QASystem/llm_qa_systems/Generators/__pycache__/gpt3generator.cpython-310.pyc  \n",
            "  inflating: QASystem/llm_qa_systems/Generators/__pycache__/llmgenerator.cpython-310.pyc  \n",
            "  inflating: QASystem/llm_qa_systems/Generators/gpt3generator.py  \n",
            "  inflating: QASystem/llm_qa_systems/llm_qa_model.py  \n",
            "  inflating: QASystem/llm_qa_systems/module_instances.py  \n",
            "  inflating: QASystem/llm_qa_systems/Modules.py  \n",
            "  inflating: QASystem/llm_qa_systems/Modules_bk.py  \n",
            "  inflating: QASystem/llm_qa_systems/participant_qa.py  \n",
            "  inflating: QASystem/llm_qa_systems/prompt_reader.py  \n",
            "   creating: QASystem/llm_qa_systems/prompts/\n",
            "   creating: QASystem/llm_qa_systems/prompts/2wikimultihopqa/\n",
            "  inflating: QASystem/llm_qa_systems/prompts/2wikimultihopqa/gold_with_0_distractors_context_cot_qa_flan_t5.txt  \n",
            "  inflating: QASystem/llm_qa_systems/prompts/2wikimultihopqa/gold_with_0_distractors_context_cot_qa_gpt_3.txt  \n",
            "  inflating: QASystem/llm_qa_systems/prompts/2wikimultihopqa/gold_with_0_distractors_context_direct_qa_flan_t5.txt  \n",
            "  inflating: QASystem/llm_qa_systems/prompts/2wikimultihopqa/gold_with_0_distractors_context_direct_qa_gpt_3.txt  \n",
            "  inflating: QASystem/llm_qa_systems/prompts/2wikimultihopqa/gold_with_1_distractors_context_cot_qa_flan_t5.txt  \n",
            "  inflating: QASystem/llm_qa_systems/prompts/2wikimultihopqa/gold_with_1_distractors_context_cot_qa_gpt_3.txt  \n",
            "  inflating: QASystem/llm_qa_systems/prompts/2wikimultihopqa/gold_with_1_distractors_context_direct_qa_flan_t5.txt  \n",
            "  inflating: QASystem/llm_qa_systems/prompts/2wikimultihopqa/gold_with_1_distractors_context_direct_qa_gpt_3.txt  \n",
            "  inflating: QASystem/llm_qa_systems/prompts/2wikimultihopqa/gold_with_2_distractors_context_cot_qa_flan_t5.txt  \n",
            "  inflating: QASystem/llm_qa_systems/prompts/2wikimultihopqa/gold_with_2_distractors_context_cot_qa_gpt_3.txt  \n",
            "  inflating: QASystem/llm_qa_systems/prompts/2wikimultihopqa/gold_with_2_distractors_context_direct_qa_flan_t5.txt  \n",
            "  inflating: QASystem/llm_qa_systems/prompts/2wikimultihopqa/gold_with_2_distractors_context_direct_qa_gpt_3.txt  \n",
            "  inflating: QASystem/llm_qa_systems/prompts/2wikimultihopqa/gold_with_3_distractors_context_cot_qa_flan_t5.txt  \n",
            "  inflating: QASystem/llm_qa_systems/prompts/2wikimultihopqa/gold_with_3_distractors_context_cot_qa_gpt_3.txt  \n",
            "  inflating: QASystem/llm_qa_systems/prompts/2wikimultihopqa/gold_with_3_distractors_context_direct_qa_flan_t5.txt  \n",
            "  inflating: QASystem/llm_qa_systems/prompts/2wikimultihopqa/gold_with_3_distractors_context_direct_qa_gpt_3.txt  \n",
            "   creating: QASystem/llm_qa_systems/prompts/hotpotqa/\n",
            "  inflating: QASystem/llm_qa_systems/prompts/hotpotqa/gold_with_0_distractors_context_cot_qa_flan_t5.txt  \n",
            "  inflating: QASystem/llm_qa_systems/prompts/hotpotqa/gold_with_0_distractors_context_cot_qa_gpt_3.txt  \n",
            "  inflating: QASystem/llm_qa_systems/prompts/hotpotqa/gold_with_0_distractors_context_direct_qa_flan_t5.txt  \n",
            "  inflating: QASystem/llm_qa_systems/prompts/hotpotqa/gold_with_0_distractors_context_direct_qa_gpt_3.txt  \n",
            "  inflating: QASystem/llm_qa_systems/prompts/hotpotqa/gold_with_1_distractors_context_cot_qa_flan_t5.txt  \n",
            "  inflating: QASystem/llm_qa_systems/prompts/hotpotqa/gold_with_1_distractors_context_cot_qa_gpt_3.txt  \n",
            "  inflating: QASystem/llm_qa_systems/prompts/hotpotqa/gold_with_1_distractors_context_direct_qa_flan_t5.txt  \n",
            "  inflating: QASystem/llm_qa_systems/prompts/hotpotqa/gold_with_1_distractors_context_direct_qa_gpt_3.txt  \n",
            "  inflating: QASystem/llm_qa_systems/prompts/hotpotqa/gold_with_2_distractors_context_cot_qa_flan_t5.txt  \n",
            "  inflating: QASystem/llm_qa_systems/prompts/hotpotqa/gold_with_2_distractors_context_cot_qa_gpt_3.txt  \n",
            "  inflating: QASystem/llm_qa_systems/prompts/hotpotqa/gold_with_2_distractors_context_direct_qa_flan_t5.txt  \n",
            "  inflating: QASystem/llm_qa_systems/prompts/hotpotqa/gold_with_2_distractors_context_direct_qa_gpt_3.txt  \n",
            "  inflating: QASystem/llm_qa_systems/prompts/hotpotqa/gold_with_3_distractors_context_cot_qa_flan_t5.txt  \n",
            "  inflating: QASystem/llm_qa_systems/prompts/hotpotqa/gold_with_3_distractors_context_cot_qa_gpt_3.txt  \n",
            "  inflating: QASystem/llm_qa_systems/prompts/hotpotqa/gold_with_3_distractors_context_direct_qa_flan_t5.txt  \n",
            "  inflating: QASystem/llm_qa_systems/prompts/hotpotqa/gold_with_3_distractors_context_direct_qa_gpt_3.txt  \n",
            "   creating: QASystem/llm_qa_systems/prompts/iirc/\n",
            "  inflating: QASystem/llm_qa_systems/prompts/iirc/gold_with_0_distractors_context_cot_qa_flan_t5.txt  \n",
            "  inflating: QASystem/llm_qa_systems/prompts/iirc/gold_with_0_distractors_context_cot_qa_gpt_3.txt  \n",
            "  inflating: QASystem/llm_qa_systems/prompts/iirc/gold_with_0_distractors_context_direct_qa_flan_t5.txt  \n",
            "  inflating: QASystem/llm_qa_systems/prompts/iirc/gold_with_0_distractors_context_direct_qa_gpt_3.txt  \n",
            "  inflating: QASystem/llm_qa_systems/prompts/iirc/gold_with_1_distractors_context_cot_qa_flan_t5.txt  \n",
            "  inflating: QASystem/llm_qa_systems/prompts/iirc/gold_with_1_distractors_context_cot_qa_gpt_3.txt  \n",
            "  inflating: QASystem/llm_qa_systems/prompts/iirc/gold_with_1_distractors_context_direct_qa_flan_t5.txt  \n",
            "  inflating: QASystem/llm_qa_systems/prompts/iirc/gold_with_1_distractors_context_direct_qa_gpt_3.txt  \n",
            "  inflating: QASystem/llm_qa_systems/prompts/iirc/gold_with_2_distractors_context_cot_qa_flan_t5.txt  \n",
            "  inflating: QASystem/llm_qa_systems/prompts/iirc/gold_with_2_distractors_context_cot_qa_gpt_3.txt  \n",
            "  inflating: QASystem/llm_qa_systems/prompts/iirc/gold_with_2_distractors_context_direct_qa_flan_t5.txt  \n",
            "  inflating: QASystem/llm_qa_systems/prompts/iirc/gold_with_2_distractors_context_direct_qa_gpt_3.txt  \n",
            "  inflating: QASystem/llm_qa_systems/prompts/iirc/gold_with_3_distractors_context_cot_qa_flan_t5.txt  \n",
            "  inflating: QASystem/llm_qa_systems/prompts/iirc/gold_with_3_distractors_context_cot_qa_gpt_3.txt  \n",
            "  inflating: QASystem/llm_qa_systems/prompts/iirc/gold_with_3_distractors_context_direct_qa_flan_t5.txt  \n",
            "  inflating: QASystem/llm_qa_systems/prompts/iirc/gold_with_3_distractors_context_direct_qa_gpt_3.txt  \n",
            "  inflating: QASystem/llm_qa_systems/prompts/iirc/no_context_open_llm_retrieval_codex.txt  \n",
            "  inflating: QASystem/llm_qa_systems/prompts/iirc/no_context_open_llm_retrieval_flan_t5.txt  \n",
            "   creating: QASystem/llm_qa_systems/prompts/musique/\n",
            "  inflating: QASystem/llm_qa_systems/prompts/musique/gold_with_0_distractors_context_cot_qa_flan_t5.txt  \n",
            "  inflating: QASystem/llm_qa_systems/prompts/musique/gold_with_0_distractors_context_cot_qa_gpt_3.txt  \n",
            "  inflating: QASystem/llm_qa_systems/prompts/musique/gold_with_0_distractors_context_direct_qa_flan_t5.txt  \n",
            "  inflating: QASystem/llm_qa_systems/prompts/musique/gold_with_0_distractors_context_direct_qa_gpt_3.txt  \n",
            "  inflating: QASystem/llm_qa_systems/prompts/musique/gold_with_1_distractors_context_cot_qa_flan_t5.txt  \n",
            "  inflating: QASystem/llm_qa_systems/prompts/musique/gold_with_1_distractors_context_cot_qa_gpt_3.txt  \n",
            "  inflating: QASystem/llm_qa_systems/prompts/musique/gold_with_1_distractors_context_direct_qa_flan_t5.txt  \n",
            "  inflating: QASystem/llm_qa_systems/prompts/musique/gold_with_1_distractors_context_direct_qa_gpt_3.txt  \n",
            "  inflating: QASystem/llm_qa_systems/prompts/musique/gold_with_2_distractors_context_cot_qa_flan_t5.txt  \n",
            "  inflating: QASystem/llm_qa_systems/prompts/musique/gold_with_2_distractors_context_cot_qa_gpt_3.txt  \n",
            "  inflating: QASystem/llm_qa_systems/prompts/musique/gold_with_2_distractors_context_direct_qa_flan_t5.txt  \n",
            "  inflating: QASystem/llm_qa_systems/prompts/musique/gold_with_2_distractors_context_direct_qa_gpt_3.txt  \n",
            "  inflating: QASystem/llm_qa_systems/prompts/musique/gold_with_3_distractors_context_cot_qa_flan_t5.txt  \n",
            "  inflating: QASystem/llm_qa_systems/prompts/musique/gold_with_3_distractors_context_cot_qa_gpt_3.txt  \n",
            "  inflating: QASystem/llm_qa_systems/prompts/musique/gold_with_3_distractors_context_direct_qa_flan_t5.txt  \n",
            "  inflating: QASystem/llm_qa_systems/prompts/musique/gold_with_3_distractors_context_direct_qa_gpt_3.txt  \n",
            "   creating: QASystem/llm_qa_systems/prompts/vote/\n",
            "  inflating: QASystem/llm_qa_systems/prompts/vote/llm_vote_1.txt  \n",
            "  inflating: QASystem/llm_qa_systems/prompts/vote/llm_vote_2.txt  \n",
            "  inflating: QASystem/llm_qa_systems/prompts/vote/llm_vote_sign.txt  \n",
            "  inflating: QASystem/llm_qa_systems/requirements.txt  \n",
            "   creating: QASystem/llm_qa_systems/Retriever/\n",
            "   creating: QASystem/llm_qa_systems/Retriever/__pycache__/\n",
            "  inflating: QASystem/llm_qa_systems/Retriever/__pycache__/ela_retriever.cpython-310.pyc  \n",
            "  inflating: QASystem/llm_qa_systems/Retriever/__pycache__/elasticsearch_retriever.cpython-310.pyc  \n",
            "  inflating: QASystem/llm_qa_systems/Retriever/api_retriever.py  \n",
            "  inflating: QASystem/llm_qa_systems/Retriever/build_index.py  \n",
            "  inflating: QASystem/llm_qa_systems/Retriever/ela_retriever.py  \n",
            "  inflating: QASystem/llm_qa_systems/Retriever/elasticsearch_retriever.py  \n",
            "  inflating: QASystem/llm_qa_systems/run.py  \n",
            "  inflating: QASystem/llm_qa_systems/test.pkl  \n",
            "  inflating: QASystem/llm_qa_systems/test_pickle.py  \n",
            "  inflating: QASystem/llm_qa_systems/utils.py  \n",
            "  inflating: QASystem/main.py        \n",
            "  inflating: QASystem/main_local.py  \n",
            "  inflating: QASystem/main_new.py    \n",
            "  inflating: QASystem/pipeline.py    \n",
            "  inflating: QASystem/res.jsonl      \n",
            "   creating: QASystem/static/\n",
            "   creating: QASystem/static/css/\n",
            "  inflating: QASystem/static/css/ajaxresult.css  \n",
            "  inflating: QASystem/static/css/detail.css  \n",
            "  inflating: QASystem/static/css/index.css  \n",
            "  inflating: QASystem/static/css/index_test_0417.css  \n",
            "  inflating: QASystem/static/css/index_test_0418.css  \n",
            "  inflating: QASystem/static/css/res.css  \n",
            "  inflating: QASystem/static/css/result.css  \n",
            "  inflating: QASystem/static/css/searchbox4ajax.css  \n",
            "  inflating: QASystem/static/css/testajax.css  \n",
            "  inflating: QASystem/static/css/testgrid.css  \n",
            "   creating: QASystem/static/font_4510329_7v0hh5c10hk/\n",
            "  inflating: QASystem/static/font_4510329_7v0hh5c10hk/demo.css  \n",
            "  inflating: QASystem/static/font_4510329_7v0hh5c10hk/demo_index.html  \n",
            "  inflating: QASystem/static/font_4510329_7v0hh5c10hk/iconfont.css  \n",
            "  inflating: QASystem/static/font_4510329_7v0hh5c10hk/iconfont.eot  \n",
            "  inflating: QASystem/static/font_4510329_7v0hh5c10hk/iconfont.js  \n",
            "  inflating: QASystem/static/font_4510329_7v0hh5c10hk/iconfont.json  \n",
            "  inflating: QASystem/static/font_4510329_7v0hh5c10hk/iconfont.svg  \n",
            "  inflating: QASystem/static/font_4510329_7v0hh5c10hk/iconfont.ttf  \n",
            "  inflating: QASystem/static/font_4510329_7v0hh5c10hk/iconfont.woff  \n",
            " extracting: QASystem/static/font_4510329_7v0hh5c10hk/iconfont.woff2  \n",
            "   creating: QASystem/static/font_4510329_ehavoechj26/\n",
            "  inflating: QASystem/static/font_4510329_ehavoechj26/demo.css  \n",
            "  inflating: QASystem/static/font_4510329_ehavoechj26/demo_index.html  \n",
            "  inflating: QASystem/static/font_4510329_ehavoechj26/iconfont.css  \n",
            "  inflating: QASystem/static/font_4510329_ehavoechj26/iconfont.eot  \n",
            "  inflating: QASystem/static/font_4510329_ehavoechj26/iconfont.js  \n",
            "  inflating: QASystem/static/font_4510329_ehavoechj26/iconfont.json  \n",
            "  inflating: QASystem/static/font_4510329_ehavoechj26/iconfont.svg  \n",
            "  inflating: QASystem/static/font_4510329_ehavoechj26/iconfont.ttf  \n",
            "  inflating: QASystem/static/font_4510329_ehavoechj26/iconfont.woff  \n",
            " extracting: QASystem/static/font_4510329_ehavoechj26/iconfont.woff2  \n",
            "   creating: QASystem/static/font_4510329_noi7xjfgj9/\n",
            "  inflating: QASystem/static/font_4510329_noi7xjfgj9/demo.css  \n",
            "  inflating: QASystem/static/font_4510329_noi7xjfgj9/demo_index.html  \n",
            "  inflating: QASystem/static/font_4510329_noi7xjfgj9/iconfont.css  \n",
            "  inflating: QASystem/static/font_4510329_noi7xjfgj9/iconfont.eot  \n",
            "  inflating: QASystem/static/font_4510329_noi7xjfgj9/iconfont.js  \n",
            "  inflating: QASystem/static/font_4510329_noi7xjfgj9/iconfont.json  \n",
            "  inflating: QASystem/static/font_4510329_noi7xjfgj9/iconfont.svg  \n",
            "  inflating: QASystem/static/font_4510329_noi7xjfgj9/iconfont.ttf  \n",
            "  inflating: QASystem/static/font_4510329_noi7xjfgj9/iconfont.woff  \n",
            " extracting: QASystem/static/font_4510329_noi7xjfgj9/iconfont.woff2  \n",
            "   creating: QASystem/static/img/\n",
            "  inflating: QASystem/static/img/RUC_1.jpg  \n",
            "  inflating: QASystem/static/img/RUC_2.jpg  \n",
            "   creating: QASystem/static/js/\n",
            "  inflating: QASystem/static/js/res.js  \n",
            "   creating: QASystem/templates/\n",
            "  inflating: QASystem/templates/ajaxwebresult.html  \n",
            "  inflating: QASystem/templates/cut_pages.html  \n",
            "  inflating: QASystem/templates/detail.html  \n",
            "  inflating: QASystem/templates/index.html  \n",
            "  inflating: QASystem/templates/index_test_0417.html  \n",
            "  inflating: QASystem/templates/index_test_0418.html  \n",
            "  inflating: QASystem/templates/localresult.html  \n",
            "  inflating: QASystem/templates/origin_index.html  \n",
            "  inflating: QASystem/templates/res.html  \n",
            "  inflating: QASystem/templates/result_web_deleted.html  \n",
            "  inflating: QASystem/templates/searchbox4ajaxresult.html  \n",
            "  inflating: QASystem/templates/test_ajax.html  \n",
            "  inflating: QASystem/templates/test_grid.html  \n",
            "  inflating: QASystem/templates/test_grid_local.html  \n",
            "  inflating: QASystem/templates/test_jquery_ready.html  \n",
            "  inflating: QASystem/templates/test_style.html  \n",
            "  inflating: QASystem/templates/webresult.html  \n",
            "  inflating: QASystem/test_cut_page.py  \n",
            "  inflating: QASystem/test_cut_page_colab.py  \n",
            "  inflating: QASystem/test_flask_ajax.py  \n",
            "  inflating: QASystem/test_flask_stream.py  \n",
            "  inflating: QASystem/test_run.py    \n",
            "  inflating: QASystem/test_style.py  \n"
          ]
        }
      ]
    },
    {
      "cell_type": "code",
      "source": [
        "cd QASystem"
      ],
      "metadata": {
        "colab": {
          "base_uri": "https://localhost:8080/"
        },
        "id": "to4GERftPBDm",
        "outputId": "31e8a1b8-ef9c-4d85-bad2-7b706e84a5f8"
      },
      "execution_count": null,
      "outputs": [
        {
          "output_type": "stream",
          "name": "stdout",
          "text": [
            "/content/QASystem\n"
          ]
        }
      ]
    },
    {
      "cell_type": "code",
      "source": [
        "! python --version"
      ],
      "metadata": {
        "colab": {
          "base_uri": "https://localhost:8080/"
        },
        "id": "OkHgniJAWehU",
        "outputId": "33f3e933-6500-40aa-8be9-f90dbbbe2592"
      },
      "execution_count": null,
      "outputs": [
        {
          "output_type": "stream",
          "name": "stdout",
          "text": [
            "Python 3.10.12\n"
          ]
        }
      ]
    },
    {
      "cell_type": "code",
      "source": [
        "# 执行主代码前必须先执行这部分\n",
        "import nltk\n",
        "nltk.download('stopwords')"
      ],
      "metadata": {
        "colab": {
          "base_uri": "https://localhost:8080/"
        },
        "id": "w6XLk58eWkJk",
        "outputId": "d95c1c42-2dbb-4e58-c990-38299d9fd59f"
      },
      "execution_count": null,
      "outputs": [
        {
          "output_type": "stream",
          "name": "stderr",
          "text": [
            "[nltk_data] Downloading package stopwords to /root/nltk_data...\n",
            "[nltk_data]   Unzipping corpora/stopwords.zip.\n"
          ]
        },
        {
          "output_type": "execute_result",
          "data": {
            "text/plain": [
              "True"
            ]
          },
          "metadata": {},
          "execution_count": 4
        }
      ]
    },
    {
      "cell_type": "code",
      "source": [
        "! pip install -r llm_qa_systems/requirements.txt\n",
        "! python -m spacy download en_core_web_sm\n",
        "! pip install cohere -q\n",
        "! pip install tiktoken -q\n",
        "! pip install protobuf==3.20.3 -q"
      ],
      "metadata": {
        "colab": {
          "base_uri": "https://localhost:8080/"
        },
        "id": "fcknFGS5cCDu",
        "outputId": "6a4c9bb1-88ec-4f20-90c7-4cacd0ded1a0"
      },
      "execution_count": null,
      "outputs": [
        {
          "output_type": "stream",
          "name": "stdout",
          "text": [
            "\u001b[31mERROR: Could not open requirements file: [Errno 2] No such file or directory: 'llm_qa_systems/requirements.txt'\u001b[0m\u001b[31m\n",
            "\u001b[0m2024-05-17 02:55:37.665397: E external/local_xla/xla/stream_executor/cuda/cuda_dnn.cc:9261] Unable to register cuDNN factory: Attempting to register factory for plugin cuDNN when one has already been registered\n",
            "2024-05-17 02:55:37.665527: E external/local_xla/xla/stream_executor/cuda/cuda_fft.cc:607] Unable to register cuFFT factory: Attempting to register factory for plugin cuFFT when one has already been registered\n",
            "2024-05-17 02:55:37.801193: E external/local_xla/xla/stream_executor/cuda/cuda_blas.cc:1515] Unable to register cuBLAS factory: Attempting to register factory for plugin cuBLAS when one has already been registered\n",
            "2024-05-17 02:55:38.056763: I tensorflow/core/platform/cpu_feature_guard.cc:182] This TensorFlow binary is optimized to use available CPU instructions in performance-critical operations.\n",
            "To enable the following instructions: AVX2 FMA, in other operations, rebuild TensorFlow with the appropriate compiler flags.\n",
            "2024-05-17 02:55:41.054220: W tensorflow/compiler/tf2tensorrt/utils/py_utils.cc:38] TF-TRT Warning: Could not find TensorRT\n",
            "\u001b[33mDEPRECATION: https://github.com/explosion/spacy-models/releases/download/en_core_web_sm-3.4.1/en_core_web_sm-3.4.1-py3-none-any.whl#egg=en_core_web_sm==3.4.1 contains an egg fragment with a non-PEP 508 name pip 25.0 will enforce this behaviour change. A possible replacement is to use the req @ url syntax, and remove the egg fragment. Discussion can be found at https://github.com/pypa/pip/issues/11617\u001b[0m\u001b[33m\n",
            "\u001b[0mCollecting en-core-web-sm==3.4.1\n",
            "  Downloading https://github.com/explosion/spacy-models/releases/download/en_core_web_sm-3.4.1/en_core_web_sm-3.4.1-py3-none-any.whl (12.8 MB)\n",
            "\u001b[2K     \u001b[90m━━━━━━━━━━━━━━━━━━━━━━━━━━━━━━━━━━━━━━━━\u001b[0m \u001b[32m12.8/12.8 MB\u001b[0m \u001b[31m33.7 MB/s\u001b[0m eta \u001b[36m0:00:00\u001b[0m\n",
            "\u001b[?25hRequirement already satisfied: spacy<3.5.0,>=3.4.0 in /usr/local/lib/python3.10/dist-packages (from en-core-web-sm==3.4.1) (3.4.1)\n",
            "Requirement already satisfied: spacy-legacy<3.1.0,>=3.0.9 in /usr/local/lib/python3.10/dist-packages (from spacy<3.5.0,>=3.4.0->en-core-web-sm==3.4.1) (3.0.12)\n",
            "Requirement already satisfied: spacy-loggers<2.0.0,>=1.0.0 in /usr/local/lib/python3.10/dist-packages (from spacy<3.5.0,>=3.4.0->en-core-web-sm==3.4.1) (1.0.5)\n",
            "Requirement already satisfied: murmurhash<1.1.0,>=0.28.0 in /usr/local/lib/python3.10/dist-packages (from spacy<3.5.0,>=3.4.0->en-core-web-sm==3.4.1) (1.0.10)\n",
            "Requirement already satisfied: cymem<2.1.0,>=2.0.2 in /usr/local/lib/python3.10/dist-packages (from spacy<3.5.0,>=3.4.0->en-core-web-sm==3.4.1) (2.0.8)\n",
            "Requirement already satisfied: preshed<3.1.0,>=3.0.2 in /usr/local/lib/python3.10/dist-packages (from spacy<3.5.0,>=3.4.0->en-core-web-sm==3.4.1) (3.0.9)\n",
            "Requirement already satisfied: thinc<8.2.0,>=8.1.0 in /usr/local/lib/python3.10/dist-packages (from spacy<3.5.0,>=3.4.0->en-core-web-sm==3.4.1) (8.1.12)\n",
            "Requirement already satisfied: wasabi<1.1.0,>=0.9.1 in /usr/local/lib/python3.10/dist-packages (from spacy<3.5.0,>=3.4.0->en-core-web-sm==3.4.1) (0.10.1)\n",
            "Requirement already satisfied: srsly<3.0.0,>=2.4.3 in /usr/local/lib/python3.10/dist-packages (from spacy<3.5.0,>=3.4.0->en-core-web-sm==3.4.1) (2.4.8)\n",
            "Requirement already satisfied: catalogue<2.1.0,>=2.0.6 in /usr/local/lib/python3.10/dist-packages (from spacy<3.5.0,>=3.4.0->en-core-web-sm==3.4.1) (2.0.10)\n",
            "Requirement already satisfied: typer<0.5.0,>=0.3.0 in /usr/local/lib/python3.10/dist-packages (from spacy<3.5.0,>=3.4.0->en-core-web-sm==3.4.1) (0.4.2)\n",
            "Requirement already satisfied: pathy>=0.3.5 in /usr/local/lib/python3.10/dist-packages (from spacy<3.5.0,>=3.4.0->en-core-web-sm==3.4.1) (0.11.0)\n",
            "Requirement already satisfied: tqdm<5.0.0,>=4.38.0 in /usr/local/lib/python3.10/dist-packages (from spacy<3.5.0,>=3.4.0->en-core-web-sm==3.4.1) (4.66.4)\n",
            "Requirement already satisfied: numpy>=1.15.0 in /usr/local/lib/python3.10/dist-packages (from spacy<3.5.0,>=3.4.0->en-core-web-sm==3.4.1) (1.25.2)\n",
            "Requirement already satisfied: requests<3.0.0,>=2.13.0 in /usr/local/lib/python3.10/dist-packages (from spacy<3.5.0,>=3.4.0->en-core-web-sm==3.4.1) (2.31.0)\n",
            "Requirement already satisfied: pydantic!=1.8,!=1.8.1,<1.10.0,>=1.7.4 in /usr/local/lib/python3.10/dist-packages (from spacy<3.5.0,>=3.4.0->en-core-web-sm==3.4.1) (1.9.2)\n",
            "Requirement already satisfied: jinja2 in /usr/local/lib/python3.10/dist-packages (from spacy<3.5.0,>=3.4.0->en-core-web-sm==3.4.1) (3.1.4)\n",
            "Requirement already satisfied: setuptools in /usr/local/lib/python3.10/dist-packages (from spacy<3.5.0,>=3.4.0->en-core-web-sm==3.4.1) (67.7.2)\n",
            "Requirement already satisfied: packaging>=20.0 in /usr/local/lib/python3.10/dist-packages (from spacy<3.5.0,>=3.4.0->en-core-web-sm==3.4.1) (24.0)\n",
            "Requirement already satisfied: langcodes<4.0.0,>=3.2.0 in /usr/local/lib/python3.10/dist-packages (from spacy<3.5.0,>=3.4.0->en-core-web-sm==3.4.1) (3.4.0)\n",
            "Requirement already satisfied: language-data>=1.2 in /usr/local/lib/python3.10/dist-packages (from langcodes<4.0.0,>=3.2.0->spacy<3.5.0,>=3.4.0->en-core-web-sm==3.4.1) (1.2.0)\n",
            "Requirement already satisfied: smart-open<7.0.0,>=5.2.1 in /usr/local/lib/python3.10/dist-packages (from pathy>=0.3.5->spacy<3.5.0,>=3.4.0->en-core-web-sm==3.4.1) (6.4.0)\n",
            "Requirement already satisfied: pathlib-abc==0.1.1 in /usr/local/lib/python3.10/dist-packages (from pathy>=0.3.5->spacy<3.5.0,>=3.4.0->en-core-web-sm==3.4.1) (0.1.1)\n",
            "Requirement already satisfied: typing-extensions>=3.7.4.3 in /usr/local/lib/python3.10/dist-packages (from pydantic!=1.8,!=1.8.1,<1.10.0,>=1.7.4->spacy<3.5.0,>=3.4.0->en-core-web-sm==3.4.1) (4.5.0)\n",
            "Requirement already satisfied: charset-normalizer<4,>=2 in /usr/local/lib/python3.10/dist-packages (from requests<3.0.0,>=2.13.0->spacy<3.5.0,>=3.4.0->en-core-web-sm==3.4.1) (3.3.2)\n",
            "Requirement already satisfied: idna<4,>=2.5 in /usr/local/lib/python3.10/dist-packages (from requests<3.0.0,>=2.13.0->spacy<3.5.0,>=3.4.0->en-core-web-sm==3.4.1) (3.7)\n",
            "Requirement already satisfied: urllib3<3,>=1.21.1 in /usr/local/lib/python3.10/dist-packages (from requests<3.0.0,>=2.13.0->spacy<3.5.0,>=3.4.0->en-core-web-sm==3.4.1) (2.0.7)\n",
            "Requirement already satisfied: certifi>=2017.4.17 in /usr/local/lib/python3.10/dist-packages (from requests<3.0.0,>=2.13.0->spacy<3.5.0,>=3.4.0->en-core-web-sm==3.4.1) (2024.2.2)\n",
            "Requirement already satisfied: blis<0.8.0,>=0.7.8 in /usr/local/lib/python3.10/dist-packages (from thinc<8.2.0,>=8.1.0->spacy<3.5.0,>=3.4.0->en-core-web-sm==3.4.1) (0.7.11)\n",
            "Requirement already satisfied: confection<1.0.0,>=0.0.1 in /usr/local/lib/python3.10/dist-packages (from thinc<8.2.0,>=8.1.0->spacy<3.5.0,>=3.4.0->en-core-web-sm==3.4.1) (0.1.4)\n",
            "Requirement already satisfied: click<9.0.0,>=7.1.1 in /usr/local/lib/python3.10/dist-packages (from typer<0.5.0,>=0.3.0->spacy<3.5.0,>=3.4.0->en-core-web-sm==3.4.1) (8.1.7)\n",
            "Requirement already satisfied: MarkupSafe>=2.0 in /usr/local/lib/python3.10/dist-packages (from jinja2->spacy<3.5.0,>=3.4.0->en-core-web-sm==3.4.1) (2.1.5)\n",
            "Requirement already satisfied: marisa-trie>=0.7.7 in /usr/local/lib/python3.10/dist-packages (from language-data>=1.2->langcodes<4.0.0,>=3.2.0->spacy<3.5.0,>=3.4.0->en-core-web-sm==3.4.1) (1.1.1)\n",
            "\u001b[38;5;2m✔ Download and installation successful\u001b[0m\n",
            "You can now load the package via spacy.load('en_core_web_sm')\n"
          ]
        }
      ]
    },
    {
      "cell_type": "code",
      "source": [
        "! pip install tokenizers==0.13.3"
      ],
      "metadata": {
        "colab": {
          "base_uri": "https://localhost:8080/"
        },
        "id": "Jp6dXaVSW2bR",
        "outputId": "946b0b82-45be-4c11-ee5f-42fcc35c41db"
      },
      "execution_count": null,
      "outputs": [
        {
          "output_type": "stream",
          "name": "stdout",
          "text": [
            "Collecting tokenizers==0.13.3\n",
            "  Using cached tokenizers-0.13.3-cp310-cp310-manylinux_2_17_x86_64.manylinux2014_x86_64.whl (7.8 MB)\n",
            "Installing collected packages: tokenizers\n",
            "  Attempting uninstall: tokenizers\n",
            "    Found existing installation: tokenizers 0.19.1\n",
            "    Uninstalling tokenizers-0.19.1:\n",
            "      Successfully uninstalled tokenizers-0.19.1\n",
            "\u001b[31mERROR: pip's dependency resolver does not currently take into account all the packages that are installed. This behaviour is the source of the following dependency conflicts.\n",
            "cohere 5.5.0 requires tokenizers<0.20,>=0.19, but you have tokenizers 0.13.3 which is incompatible.\u001b[0m\u001b[31m\n",
            "\u001b[0mSuccessfully installed tokenizers-0.13.3\n"
          ]
        }
      ]
    },
    {
      "cell_type": "code",
      "source": [
        "! pip install flask\n",
        "! pip install pyngrok\n",
        "! pip install serpapi"
      ],
      "metadata": {
        "colab": {
          "base_uri": "https://localhost:8080/"
        },
        "id": "8omXoT3wXckd",
        "outputId": "876ea409-7b0d-43fa-f93e-8a0ec41f4372"
      },
      "execution_count": null,
      "outputs": [
        {
          "output_type": "stream",
          "name": "stdout",
          "text": [
            "Requirement already satisfied: flask in /usr/local/lib/python3.10/dist-packages (2.2.5)\n",
            "Requirement already satisfied: Werkzeug>=2.2.2 in /usr/local/lib/python3.10/dist-packages (from flask) (3.0.3)\n",
            "Requirement already satisfied: Jinja2>=3.0 in /usr/local/lib/python3.10/dist-packages (from flask) (3.1.4)\n",
            "Requirement already satisfied: itsdangerous>=2.0 in /usr/local/lib/python3.10/dist-packages (from flask) (2.2.0)\n",
            "Requirement already satisfied: click>=8.0 in /usr/local/lib/python3.10/dist-packages (from flask) (8.1.7)\n",
            "Requirement already satisfied: MarkupSafe>=2.0 in /usr/local/lib/python3.10/dist-packages (from Jinja2>=3.0->flask) (2.1.5)\n",
            "Collecting pyngrok\n",
            "  Downloading pyngrok-7.1.6-py3-none-any.whl (22 kB)\n",
            "Requirement already satisfied: PyYAML>=5.1 in /usr/local/lib/python3.10/dist-packages (from pyngrok) (6.0.1)\n",
            "Installing collected packages: pyngrok\n",
            "Successfully installed pyngrok-7.1.6\n",
            "Collecting serpapi\n",
            "  Downloading serpapi-0.1.5-py2.py3-none-any.whl (10 kB)\n",
            "Requirement already satisfied: requests in /usr/local/lib/python3.10/dist-packages (from serpapi) (2.31.0)\n",
            "Requirement already satisfied: charset-normalizer<4,>=2 in /usr/local/lib/python3.10/dist-packages (from requests->serpapi) (3.3.2)\n",
            "Requirement already satisfied: idna<4,>=2.5 in /usr/local/lib/python3.10/dist-packages (from requests->serpapi) (3.7)\n",
            "Requirement already satisfied: urllib3<3,>=1.21.1 in /usr/local/lib/python3.10/dist-packages (from requests->serpapi) (2.0.7)\n",
            "Requirement already satisfied: certifi>=2017.4.17 in /usr/local/lib/python3.10/dist-packages (from requests->serpapi) (2024.2.2)\n",
            "Installing collected packages: serpapi\n",
            "Successfully installed serpapi-0.1.5\n"
          ]
        }
      ]
    },
    {
      "cell_type": "code",
      "source": [
        "#挂载谷歌云盘\n",
        "from google.colab import drive\n",
        "drive.mount('/content/gdata')"
      ],
      "metadata": {
        "id": "a0Z2kbU0W4Dd",
        "colab": {
          "base_uri": "https://localhost:8080/"
        },
        "outputId": "3c825c21-966a-40b4-8f7c-a87e6463a1fb"
      },
      "execution_count": null,
      "outputs": [
        {
          "output_type": "stream",
          "name": "stdout",
          "text": [
            "Mounted at /content/gdata\n"
          ]
        }
      ]
    },
    {
      "cell_type": "code",
      "source": [
        "cd QASystem"
      ],
      "metadata": {
        "colab": {
          "base_uri": "https://localhost:8080/"
        },
        "id": "y97eoqrW56Z_",
        "outputId": "ec48c178-81b4-4eab-b77e-0ce72058c268"
      },
      "execution_count": null,
      "outputs": [
        {
          "output_type": "stream",
          "name": "stdout",
          "text": [
            "/content/QASystem\n"
          ]
        }
      ]
    },
    {
      "cell_type": "code",
      "source": [
        "cd llm_qa_systems"
      ],
      "metadata": {
        "colab": {
          "base_uri": "https://localhost:8080/"
        },
        "id": "ECgbeLxzcPpH",
        "outputId": "e0062bcf-8c0f-4e76-d3ab-e025f7f82333"
      },
      "execution_count": null,
      "outputs": [
        {
          "output_type": "stream",
          "name": "stdout",
          "text": [
            "/content/QASystem/llm_qa_systems\n"
          ]
        }
      ]
    },
    {
      "cell_type": "code",
      "source": [
        "! mkdir -p temp/\n",
        "! cp /content/gdata/MyDrive/data/processed_data.zip temp/processed_data.zip\n",
        "! unzip  -o temp/processed_data.zip -x \"*.DS_Store\"\n",
        "! rm -rf temp/"
      ],
      "metadata": {
        "colab": {
          "base_uri": "https://localhost:8080/"
        },
        "id": "mHi3fwtuW_gs",
        "outputId": "2bff5c8d-7beb-4d8b-e1ed-551f9b4d0988"
      },
      "execution_count": null,
      "outputs": [
        {
          "output_type": "stream",
          "name": "stdout",
          "text": [
            "Archive:  temp/processed_data.zip\n",
            "   creating: processed_data/\n",
            "   creating: processed_data/2wikimultihopqa/\n",
            "   creating: processed_data/hotpotqa/\n",
            " extracting: processed_data/.keep    \n",
            "   creating: processed_data/musique/\n",
            "   creating: processed_data/iirc/\n",
            "  inflating: processed_data/2wikimultihopqa/train.jsonl  \n",
            "  inflating: processed_data/2wikimultihopqa/dev_subsampled.jsonl  \n",
            "  inflating: processed_data/2wikimultihopqa/test_subsampled.jsonl  \n",
            "  inflating: processed_data/2wikimultihopqa/annotated_only_train.jsonl  \n",
            "  inflating: processed_data/2wikimultihopqa/dev.jsonl  \n",
            "  inflating: processed_data/hotpotqa/train.jsonl  \n",
            "  inflating: processed_data/hotpotqa/dev_subsampled.jsonl  \n",
            "  inflating: processed_data/hotpotqa/test_subsampled.jsonl  \n",
            "  inflating: processed_data/hotpotqa/annotated_only_train.jsonl  \n",
            "  inflating: processed_data/hotpotqa/dev.jsonl  \n",
            "  inflating: processed_data/musique/train.jsonl  \n",
            "  inflating: processed_data/musique/dev_subsampled.jsonl  \n",
            "  inflating: processed_data/musique/test_subsampled.jsonl  \n",
            "  inflating: processed_data/musique/annotated_only_train.jsonl  \n",
            "  inflating: processed_data/musique/dev.jsonl  \n",
            "  inflating: processed_data/iirc/train.jsonl  \n",
            "  inflating: processed_data/iirc/dev_subsampled.jsonl  \n",
            "  inflating: processed_data/iirc/test_subsampled.jsonl  \n",
            "  inflating: processed_data/iirc/annotated_only_train.jsonl  \n",
            "  inflating: processed_data/iirc/dev.jsonl  \n"
          ]
        }
      ]
    },
    {
      "cell_type": "code",
      "source": [
        "! mkdir -p temp/\n",
        "! mkdir -p raw_data\n",
        "\n",
        "! echo \"\\n\\nDownloading raw 2wikimultihopqa data\\n\"\n",
        "! mkdir -p raw_data/2wikimultihopqa\n",
        "! cp /content/gdata/MyDrive/data/2wikimultihopqa.zip temp/2wikimultihopqa.zip\n",
        "! unzip -jo temp/2wikimultihopqa.zip -d raw_data/2wikimultihopqa -x \"*.DS_Store\"\n",
        "! rm data_ids.zip*\n",
        "\n",
        "! echo \"\\n\\nDownloading raw musique data\\n\"\n",
        "! mkdir -p temp/\n",
        "! mkdir -p raw_data/musique\n",
        "! cp /content/gdata/MyDrive/data/musique_data_v1.0.zip temp/musique_v1.0.zip\n",
        "! unzip -jo temp/musique_v1.0.zip -d raw_data/musique -x \"*.DS_Store\"\n",
        "\n",
        "\n",
        "! rm -rf temp/"
      ],
      "metadata": {
        "colab": {
          "base_uri": "https://localhost:8080/"
        },
        "id": "5Pn8ZLIyXBtp",
        "outputId": "a154d4f0-e837-4454-ae5a-77e48c346844"
      },
      "execution_count": null,
      "outputs": [
        {
          "output_type": "stream",
          "name": "stdout",
          "text": [
            "\\n\\nDownloading raw 2wikimultihopqa data\\n\n",
            "Archive:  temp/2wikimultihopqa.zip\n",
            "  inflating: raw_data/2wikimultihopqa/._data_ids  \n",
            "  inflating: raw_data/2wikimultihopqa/test.json  \n",
            "  inflating: raw_data/2wikimultihopqa/._test.json  \n",
            "  inflating: raw_data/2wikimultihopqa/dev.json  \n",
            "  inflating: raw_data/2wikimultihopqa/._dev.json  \n",
            "  inflating: raw_data/2wikimultihopqa/train.json  \n",
            "  inflating: raw_data/2wikimultihopqa/._train.json  \n",
            "  inflating: raw_data/2wikimultihopqa/id_aliases.json  \n",
            "  inflating: raw_data/2wikimultihopqa/._id_aliases.json  \n",
            "rm: cannot remove 'data_ids.zip*': No such file or directory\n",
            "\\n\\nDownloading raw musique data\\n\n",
            "Archive:  temp/musique_v1.0.zip\n",
            "  inflating: raw_data/musique/musique_full_v1.0_train.jsonl  \n",
            "  inflating: raw_data/musique/dev_test_singlehop_questions_v1.0.json  \n",
            "  inflating: raw_data/musique/musique_ans_v1.0_test.jsonl  \n",
            "  inflating: raw_data/musique/musique_full_v1.0_dev.jsonl  \n",
            "  inflating: raw_data/musique/musique_ans_v1.0_train.jsonl  \n",
            "  inflating: raw_data/musique/musique_full_v1.0_test.jsonl  \n",
            "  inflating: raw_data/musique/musique_ans_v1.0_dev.jsonl  \n"
          ]
        }
      ]
    },
    {
      "cell_type": "code",
      "source": [
        "%%bash\n",
        "\n",
        "wget -q https://artifacts.elastic.co/downloads/elasticsearch/elasticsearch-7.10.2-linux-x86_64.tar.gz\n",
        "wget -q https://artifacts.elastic.co/downloads/elasticsearch/elasticsearch-7.10.2-linux-x86_64.tar.gz.sha512\n",
        "tar -xzf elasticsearch-7.10.2-linux-x86_64.tar.gz\n",
        "shasum -a 512 -c elasticsearch-7.10.2-linux-x86_64.tar.gz.sha512"
      ],
      "metadata": {
        "colab": {
          "base_uri": "https://localhost:8080/"
        },
        "id": "NVIaq_RVXE1-",
        "outputId": "e11f2e43-673c-4d2e-f84b-10422f737f70"
      },
      "execution_count": null,
      "outputs": [
        {
          "output_type": "stream",
          "name": "stdout",
          "text": [
            "elasticsearch-7.10.2-linux-x86_64.tar.gz: OK\n"
          ]
        }
      ]
    },
    {
      "cell_type": "code",
      "source": [
        "cd QASystem"
      ],
      "metadata": {
        "colab": {
          "base_uri": "https://localhost:8080/"
        },
        "id": "RfjeVhtJjPqm",
        "outputId": "e488b435-290a-4bf6-d354-84ffcd46d1ab"
      },
      "execution_count": null,
      "outputs": [
        {
          "output_type": "stream",
          "name": "stdout",
          "text": [
            "[Errno 2] No such file or directory: 'QASystem'\n",
            "/content/QASystem/llm_qa_systems\n"
          ]
        }
      ]
    },
    {
      "cell_type": "code",
      "source": [
        "cd llm_qa_systems"
      ],
      "metadata": {
        "colab": {
          "base_uri": "https://localhost:8080/"
        },
        "id": "VNVtdRj_Zl5g",
        "outputId": "753a7a59-5baf-48c8-d7bb-5bf91b0b5cbe"
      },
      "execution_count": null,
      "outputs": [
        {
          "output_type": "stream",
          "name": "stdout",
          "text": [
            "/content/QASystem/llm_qa_systems\n"
          ]
        }
      ]
    },
    {
      "cell_type": "code",
      "source": [
        "%%bash --bg\n",
        "sudo chown -R daemon:daemon elasticsearch-7.10.2/\n",
        "sudo -H -u daemon elasticsearch-7.10.2/bin/elasticsearch"
      ],
      "metadata": {
        "id": "21emFrNWXH0x"
      },
      "execution_count": null,
      "outputs": []
    },
    {
      "cell_type": "code",
      "source": [
        "# Sleep for few seconds to let the instance start.\n",
        "import time\n",
        "time.sleep(20)"
      ],
      "metadata": {
        "id": "qbdENNL2XJDU"
      },
      "execution_count": null,
      "outputs": []
    },
    {
      "cell_type": "code",
      "source": [
        "%%bash\n",
        "\n",
        "ps -ef | grep elasticsearch\n",
        "\n",
        "curl -sX GET \"localhost:9200/\""
      ],
      "metadata": {
        "colab": {
          "base_uri": "https://localhost:8080/"
        },
        "id": "azA_dcQTXKVT",
        "outputId": "50213b7f-c398-4460-f97f-2af18b52a90e"
      },
      "execution_count": null,
      "outputs": [
        {
          "output_type": "stream",
          "name": "stdout",
          "text": [
            "root       16197   16189  0 03:41 ?        00:00:00 sudo -H -u daemon elasticsearch-7.10.2/bin/elast\n",
            "daemon     16198   16197 99 03:41 ?        00:00:38 /content/QASystem/llm_qa_systems/elasticsearch-7\n",
            "daemon     16396   16198  0 03:41 ?        00:00:00 /content/QASystem/llm_qa_systems/elasticsearch-7\n",
            "root       16524   16522  0 03:41 ?        00:00:00 grep elasticsearch\n",
            "{\n",
            "  \"name\" : \"771a714846eb\",\n",
            "  \"cluster_name\" : \"elasticsearch\",\n",
            "  \"cluster_uuid\" : \"z2ubbJGoQoe3vbSY8JeMEw\",\n",
            "  \"version\" : {\n",
            "    \"number\" : \"7.10.2\",\n",
            "    \"build_flavor\" : \"default\",\n",
            "    \"build_type\" : \"tar\",\n",
            "    \"build_hash\" : \"747e1cc71def077253878a59143c1f785afa92b9\",\n",
            "    \"build_date\" : \"2021-01-13T00:42:12.435326Z\",\n",
            "    \"build_snapshot\" : false,\n",
            "    \"lucene_version\" : \"8.7.0\",\n",
            "    \"minimum_wire_compatibility_version\" : \"6.8.0\",\n",
            "    \"minimum_index_compatibility_version\" : \"6.0.0-beta1\"\n",
            "  },\n",
            "  \"tagline\" : \"You Know, for Search\"\n",
            "}\n"
          ]
        }
      ]
    },
    {
      "cell_type": "code",
      "source": [
        "! python Retriever/build_index.py 2wikimultihopqa"
      ],
      "metadata": {
        "colab": {
          "base_uri": "https://localhost:8080/"
        },
        "id": "GaWROcOpXLxD",
        "outputId": "0d72668d-29a9-4813-b6b3-a4392abfef33"
      },
      "execution_count": null,
      "outputs": [
        {
          "output_type": "stream",
          "name": "stdout",
          "text": [
            "Index doesn't exist.\n",
            "Creating Index ...\n",
            "Inserting Paragraphs ...\n",
            "100% 167454/167454 [04:00<00:00, 697.35it/s]\n",
            "100% 12576/12576 [00:13<00:00, 946.44it/s] \n",
            "100% 12576/12576 [00:12<00:00, 996.47it/s]\n",
            "Index 2wikimultihopqa is ready. Added 430225 documents.\n"
          ]
        }
      ]
    },
    {
      "cell_type": "code",
      "source": [
        "! python Retriever/build_index.py musique"
      ],
      "metadata": {
        "id": "u05nAArgBYK8",
        "colab": {
          "base_uri": "https://localhost:8080/"
        },
        "outputId": "5d07ee55-449e-4335-d4a6-293bf8e24fc1"
      },
      "execution_count": null,
      "outputs": [
        {
          "output_type": "stream",
          "name": "stdout",
          "text": [
            "Index doesn't exist.\n",
            "Creating Index ...\n",
            "Inserting Paragraphs ...\n",
            "100% 2417/2417 [00:11<00:00, 217.11it/s]\n",
            "100% 2459/2459 [00:10<00:00, 237.76it/s]\n",
            "100% 19938/19938 [00:44<00:00, 446.68it/s]\n",
            "100% 4834/4834 [00:07<00:00, 652.29it/s]\n",
            "100% 4918/4918 [00:07<00:00, 622.85it/s]\n",
            "100% 39876/39876 [01:03<00:00, 625.52it/s]\n",
            "Index musique is ready. Added 139416 documents.\n"
          ]
        }
      ]
    },
    {
      "cell_type": "markdown",
      "source": [
        "# 前端运行"
      ],
      "metadata": {
        "id": "AnyZlpF7XhAI"
      }
    },
    {
      "cell_type": "code",
      "source": [
        "%env OPENAI_API_KEY=blahblahblah\n",
        "%env OPENAI_BASE_URL=blahblahblah\n",
        "%env MODEL_NAME=gpt-3.5-turbo-instruct"
      ],
      "metadata": {
        "id": "rZi8moo4XPJl"
      },
      "execution_count": null,
      "outputs": []
    },
    {
      "cell_type": "code",
      "source": [
        "cd /content/QASystem"
      ],
      "metadata": {
        "colab": {
          "base_uri": "https://localhost:8080/"
        },
        "id": "6MkHxFuS77pC",
        "outputId": "3e3fb440-b02a-45c5-d47f-734eb84798e5"
      },
      "execution_count": null,
      "outputs": [
        {
          "output_type": "stream",
          "name": "stdout",
          "text": [
            "/content/QASystem\n"
          ]
        }
      ]
    },
    {
      "cell_type": "code",
      "source": [
        "! python main_new.py"
      ],
      "metadata": {
        "id": "iNvKNA-JS-pG"
      },
      "execution_count": null,
      "outputs": []
    }
  ]
}